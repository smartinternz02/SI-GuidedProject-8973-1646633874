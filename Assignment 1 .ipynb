{
 "cells": [
  {
   "cell_type": "code",
   "execution_count": 9,
   "id": "b584fc89",
   "metadata": {},
   "outputs": [
    {
     "data": {
      "text/plain": [
       "2401"
      ]
     },
     "execution_count": 9,
     "metadata": {},
     "output_type": "execute_result"
    }
   ],
   "source": [
    "#1. 7 power 4 \n",
    "a = 7**4\n",
    "a"
   ]
  },
  {
   "cell_type": "code",
   "execution_count": 10,
   "id": "62221d33",
   "metadata": {},
   "outputs": [
    {
     "data": {
      "text/plain": [
       "['hi', 'there', 'sam']"
      ]
     },
     "execution_count": 10,
     "metadata": {},
     "output_type": "execute_result"
    }
   ],
   "source": [
    "#2. split the string into a list\n",
    "s = \"hi there sam\"\n",
    "l = s.split(' ')\n",
    "l"
   ]
  },
  {
   "cell_type": "code",
   "execution_count": 11,
   "id": "25803cdb",
   "metadata": {},
   "outputs": [
    {
     "name": "stdout",
     "output_type": "stream",
     "text": [
      "the diameter of earth is 12742 kilometers\n"
     ]
    }
   ],
   "source": [
    "#3. using format \n",
    "planet = 'earth'\n",
    "d = 12742\n",
    "print(\"the diameter of {0} is {1} kilometers\".format(planet,d))"
   ]
  },
  {
   "cell_type": "code",
   "execution_count": 12,
   "id": "072b781a",
   "metadata": {},
   "outputs": [
    {
     "data": {
      "text/plain": [
       "['hello']"
      ]
     },
     "execution_count": 12,
     "metadata": {},
     "output_type": "execute_result"
    }
   ],
   "source": [
    "#4. Given this nested list, use indexing to grab the word \"hello\"\n",
    "l = [1,2,[3,4],[5,[100,200,['hello']],23,11],1,7]\n",
    "l[3][1][2]"
   ]
  },
  {
   "cell_type": "code",
   "execution_count": 13,
   "id": "a541b41a",
   "metadata": {},
   "outputs": [
    {
     "data": {
      "text/plain": [
       "'hello'"
      ]
     },
     "execution_count": 13,
     "metadata": {},
     "output_type": "execute_result"
    }
   ],
   "source": [
    "#5. Given this nested dictionary grab the word \"hello\".\n",
    "d = {'k1':[1,2,3,{'tricky':['oh','man','inception',{'target':[1,2,3,'hello']}]}]}\n",
    "c=d['k1'][3]\n",
    "e=c['tricky'][3]\n",
    "e['target'][3]"
   ]
  },
  {
   "cell_type": "code",
   "execution_count": 19,
   "id": "e0625680",
   "metadata": {},
   "outputs": [],
   "source": [
    "#6. difference b/w list and tuple\n",
    "#->Lists are mutable where as tuples are immutable \n",
    "#->tuples are memory efficient and lists are not"
   ]
  },
  {
   "cell_type": "code",
   "execution_count": 18,
   "id": "2abb4eed",
   "metadata": {},
   "outputs": [
    {
     "data": {
      "text/plain": [
       "'domain.com'"
      ]
     },
     "execution_count": 18,
     "metadata": {},
     "output_type": "execute_result"
    }
   ],
   "source": [
    "#7.Create a function that grabs the email website domain from a string in the form : user@domain.com\n",
    "a = 'user@domain.com'\n",
    "b = a.find('@')\n",
    "c = a[b+1:]\n",
    "c"
   ]
  },
  {
   "cell_type": "code",
   "execution_count": 17,
   "id": "ac345e37",
   "metadata": {},
   "outputs": [
    {
     "data": {
      "text/plain": [
       "True"
      ]
     },
     "execution_count": 17,
     "metadata": {},
     "output_type": "execute_result"
    }
   ],
   "source": [
    "#8. Create a basic function that returns True if the word 'dog' is contained in the input string.\n",
    "def func(s):\n",
    "    if sub in s :\n",
    "        return True\n",
    "    else:\n",
    "        return False\n",
    "s = 'i love dogs'\n",
    "sub = 'dog'\n",
    "func(s)"
   ]
  },
  {
   "cell_type": "code",
   "execution_count": 16,
   "id": "1975a2f0",
   "metadata": {},
   "outputs": [
    {
     "name": "stdout",
     "output_type": "stream",
     "text": [
      "['soup', 'salad']\n"
     ]
    }
   ],
   "source": [
    "\"\"\"9.Use lambda expressions and the filter() function to filter out words from a list that don't start with the letter 's'.\n",
    "    For example:\n",
    "    seq = ['soup','dog','salad','cat','great']\n",
    "    should be filtered down to:    ['soup','salad']\"\"\"\n",
    "####\n",
    "seq=['soup','dog','salad','cat','great']\n",
    "print(list(filter(lambda letter:letter[0]=='s',seq)))"
   ]
  },
  {
   "cell_type": "code",
   "execution_count": 15,
   "id": "666f598f",
   "metadata": {},
   "outputs": [
    {
     "name": "stdout",
     "output_type": "stream",
     "text": [
      "Enter the speed : 64\n",
      "is today your bday(0/1) ? 1\n",
      "no ticket\n"
     ]
    }
   ],
   "source": [
    "\"\"\"10. You are driving a little too fast, and a police officer stops you. Write a function\n",
    "      to return one of 3 possible results: \"No ticket\", \"Small ticket\", or \"Big Ticket\". \n",
    "      If your speed is 60 or less, the result is \"No Ticket\". If speed is between 61 \n",
    "      and 80 inclusive, the result is \"Small Ticket\". If speed is 81 or more, the result is \"Big    Ticket\".\n",
    "     Unless it is your birthday (encoded as a boolean value in the parameters of the function) --\n",
    "     on your birthday, your speed can be 5 higher in all cases.\"\"\"\n",
    "def ticket(speed, birthday):\n",
    "    if(birthday):\n",
    "        if(speed<=65):\n",
    "            print(\"no ticket\")\n",
    "        elif(speed>65 and speed < 86):\n",
    "            print(\"small ticket\")\n",
    "        else:\n",
    "            print(\"big ticket\")\n",
    "    else:\n",
    "        if(speed<=60):\n",
    "            print(\"no ticket\")\n",
    "        elif(speed>60 and speed< 81):\n",
    "            print(\"small ticket\")\n",
    "        else:\n",
    "            print(\"big ticket\")\n",
    "        \n",
    "speed = int(input(\"Enter the speed : \"))\n",
    "birthday = bool(int(input(\"is today your bday(0/1) ? \")))\n",
    "ticket(speed,birthday)"
   ]
  },
  {
   "cell_type": "code",
   "execution_count": null,
   "id": "4ab58604",
   "metadata": {},
   "outputs": [],
   "source": []
  }
 ],
 "metadata": {
  "kernelspec": {
   "display_name": "Python 3",
   "language": "python",
   "name": "python3"
  },
  "language_info": {
   "codemirror_mode": {
    "name": "ipython",
    "version": 3
   },
   "file_extension": ".py",
   "mimetype": "text/x-python",
   "name": "python",
   "nbconvert_exporter": "python",
   "pygments_lexer": "ipython3",
   "version": "3.9.7"
  }
 },
 "nbformat": 4,
 "nbformat_minor": 5
}
